{
 "cells": [
  {
   "cell_type": "markdown",
   "metadata": {},
   "source": [
    "### I - Video extraction"
   ]
  },
  {
   "cell_type": "code",
   "execution_count": 234,
   "metadata": {},
   "outputs": [],
   "source": [
    "import pytube as pt\n",
    "import time\n",
    "import os\n",
    "from openai import AzureOpenAI"
   ]
  },
  {
   "cell_type": "code",
   "execution_count": 235,
   "metadata": {},
   "outputs": [],
   "source": [
    "#transcription module \n",
    "os.environ[\"OPENAI_API_KEY\"] = \"33504ce0177a4cd2a3f96ba2ed90f845\"\n",
    "os.environ[\"AOAIEndpoint\"] = \"https://gptshared-vision.openai.azure.com/\"\n",
    "os.environ[\"AOAIDeploymentId\"] = \"whisper-2-large\"\n",
    "\n",
    "client = AzureOpenAI(\n",
    "    api_key = \"33504ce0177a4cd2a3f96ba2ed90f845\",  \n",
    "    api_version = \"2023-10-01-preview\",\n",
    "    azure_endpoint = \"https://gptshared-vision.openai.azure.com/\"\n",
    "    )"
   ]
  },
  {
   "cell_type": "code",
   "execution_count": 236,
   "metadata": {},
   "outputs": [],
   "source": [
    "yt = pt.YouTube(\"https://www.youtube.com/watch?v=ct9pAfq-Kmw\")\n",
    "stream = yt.streams.filter(only_audio=True)[0]"
   ]
  },
  {
   "cell_type": "code",
   "execution_count": 237,
   "metadata": {},
   "outputs": [
    {
     "data": {
      "text/plain": [
       "'/Users/oussa/Desktop/LLM/audio_english.mp3'"
      ]
     },
     "execution_count": 237,
     "metadata": {},
     "output_type": "execute_result"
    }
   ],
   "source": [
    "stream.download(filename=\"/Users/oussa/Desktop/LLM/audio_english.mp3\")"
   ]
  },
  {
   "cell_type": "code",
   "execution_count": 238,
   "metadata": {},
   "outputs": [
    {
     "ename": "AuthenticationError",
     "evalue": "Error code: 401 - {'statusCode': 401, 'message': 'Unauthorized. Access token is missing, invalid, audience is incorrect (https://cognitiveservices.azure.com), or have expired.'}",
     "output_type": "error",
     "traceback": [
      "\u001b[0;31m---------------------------------------------------------------------------\u001b[0m",
      "\u001b[0;31mAuthenticationError\u001b[0m                       Traceback (most recent call last)",
      "Cell \u001b[0;32mIn[238], line 1\u001b[0m\n\u001b[0;32m----> 1\u001b[0m response \u001b[38;5;241m=\u001b[39m \u001b[43mclient\u001b[49m\u001b[38;5;241;43m.\u001b[39;49m\u001b[43maudio\u001b[49m\u001b[38;5;241;43m.\u001b[39;49m\u001b[43mtranscriptions\u001b[49m\u001b[38;5;241;43m.\u001b[39;49m\u001b[43mcreate\u001b[49m\u001b[43m(\u001b[49m\n\u001b[1;32m      2\u001b[0m \u001b[43m    \u001b[49m\u001b[43mmodel\u001b[49m\u001b[43m \u001b[49m\u001b[38;5;241;43m=\u001b[39;49m\u001b[43m \u001b[49m\u001b[38;5;124;43m\"\u001b[39;49m\u001b[38;5;124;43mwhisper-2-large\u001b[39;49m\u001b[38;5;124;43m\"\u001b[39;49m\u001b[43m,\u001b[49m\n\u001b[1;32m      3\u001b[0m \u001b[43m    \u001b[49m\u001b[43mfile\u001b[49m\u001b[43m \u001b[49m\u001b[38;5;241;43m=\u001b[39;49m\u001b[43m \u001b[49m\u001b[38;5;28;43mopen\u001b[39;49m\u001b[43m(\u001b[49m\u001b[38;5;124;43m'\u001b[39;49m\u001b[38;5;124;43m/Users/oussa/Desktop/LLM/audio_english.mp3\u001b[39;49m\u001b[38;5;124;43m'\u001b[39;49m\u001b[43m,\u001b[49m\u001b[43m \u001b[49m\u001b[38;5;124;43m\"\u001b[39;49m\u001b[38;5;124;43mrb\u001b[39;49m\u001b[38;5;124;43m\"\u001b[39;49m\u001b[43m)\u001b[49m\u001b[43m,\u001b[49m\n\u001b[1;32m      4\u001b[0m \u001b[43m    \u001b[49m\u001b[43mresponse_format\u001b[49m\u001b[43m \u001b[49m\u001b[38;5;241;43m=\u001b[39;49m\u001b[43m \u001b[49m\u001b[38;5;124;43m\"\u001b[39;49m\u001b[38;5;124;43mtext\u001b[39;49m\u001b[38;5;124;43m\"\u001b[39;49m\u001b[43m \u001b[49m\n\u001b[1;32m      5\u001b[0m \u001b[43m)\u001b[49m\n\u001b[1;32m      7\u001b[0m \u001b[38;5;28mprint\u001b[39m(response)\n",
      "File \u001b[0;32m/opt/homebrew/lib/python3.11/site-packages/openai/resources/audio/transcriptions.py:101\u001b[0m, in \u001b[0;36mTranscriptions.create\u001b[0;34m(self, file, model, language, prompt, response_format, temperature, extra_headers, extra_query, extra_body, timeout)\u001b[0m\n\u001b[1;32m     96\u001b[0m \u001b[38;5;28;01mif\u001b[39;00m files:\n\u001b[1;32m     97\u001b[0m     \u001b[38;5;66;03m# It should be noted that the actual Content-Type header that will be\u001b[39;00m\n\u001b[1;32m     98\u001b[0m     \u001b[38;5;66;03m# sent to the server will contain a `boundary` parameter, e.g.\u001b[39;00m\n\u001b[1;32m     99\u001b[0m     \u001b[38;5;66;03m# multipart/form-data; boundary=---abc--\u001b[39;00m\n\u001b[1;32m    100\u001b[0m     extra_headers \u001b[38;5;241m=\u001b[39m {\u001b[38;5;124m\"\u001b[39m\u001b[38;5;124mContent-Type\u001b[39m\u001b[38;5;124m\"\u001b[39m: \u001b[38;5;124m\"\u001b[39m\u001b[38;5;124mmultipart/form-data\u001b[39m\u001b[38;5;124m\"\u001b[39m, \u001b[38;5;241m*\u001b[39m\u001b[38;5;241m*\u001b[39m(extra_headers \u001b[38;5;129;01mor\u001b[39;00m {})}\n\u001b[0;32m--> 101\u001b[0m \u001b[38;5;28;01mreturn\u001b[39;00m \u001b[38;5;28;43mself\u001b[39;49m\u001b[38;5;241;43m.\u001b[39;49m\u001b[43m_post\u001b[49m\u001b[43m(\u001b[49m\n\u001b[1;32m    102\u001b[0m \u001b[43m    \u001b[49m\u001b[38;5;124;43m\"\u001b[39;49m\u001b[38;5;124;43m/audio/transcriptions\u001b[39;49m\u001b[38;5;124;43m\"\u001b[39;49m\u001b[43m,\u001b[49m\n\u001b[1;32m    103\u001b[0m \u001b[43m    \u001b[49m\u001b[43mbody\u001b[49m\u001b[38;5;241;43m=\u001b[39;49m\u001b[43mmaybe_transform\u001b[49m\u001b[43m(\u001b[49m\u001b[43mbody\u001b[49m\u001b[43m,\u001b[49m\u001b[43m \u001b[49m\u001b[43mtranscription_create_params\u001b[49m\u001b[38;5;241;43m.\u001b[39;49m\u001b[43mTranscriptionCreateParams\u001b[49m\u001b[43m)\u001b[49m\u001b[43m,\u001b[49m\n\u001b[1;32m    104\u001b[0m \u001b[43m    \u001b[49m\u001b[43mfiles\u001b[49m\u001b[38;5;241;43m=\u001b[39;49m\u001b[43mfiles\u001b[49m\u001b[43m,\u001b[49m\n\u001b[1;32m    105\u001b[0m \u001b[43m    \u001b[49m\u001b[43moptions\u001b[49m\u001b[38;5;241;43m=\u001b[39;49m\u001b[43mmake_request_options\u001b[49m\u001b[43m(\u001b[49m\n\u001b[1;32m    106\u001b[0m \u001b[43m        \u001b[49m\u001b[43mextra_headers\u001b[49m\u001b[38;5;241;43m=\u001b[39;49m\u001b[43mextra_headers\u001b[49m\u001b[43m,\u001b[49m\u001b[43m \u001b[49m\u001b[43mextra_query\u001b[49m\u001b[38;5;241;43m=\u001b[39;49m\u001b[43mextra_query\u001b[49m\u001b[43m,\u001b[49m\u001b[43m \u001b[49m\u001b[43mextra_body\u001b[49m\u001b[38;5;241;43m=\u001b[39;49m\u001b[43mextra_body\u001b[49m\u001b[43m,\u001b[49m\u001b[43m \u001b[49m\u001b[43mtimeout\u001b[49m\u001b[38;5;241;43m=\u001b[39;49m\u001b[43mtimeout\u001b[49m\n\u001b[1;32m    107\u001b[0m \u001b[43m    \u001b[49m\u001b[43m)\u001b[49m\u001b[43m,\u001b[49m\n\u001b[1;32m    108\u001b[0m \u001b[43m    \u001b[49m\u001b[43mcast_to\u001b[49m\u001b[38;5;241;43m=\u001b[39;49m\u001b[43mTranscription\u001b[49m\u001b[43m,\u001b[49m\n\u001b[1;32m    109\u001b[0m \u001b[43m\u001b[49m\u001b[43m)\u001b[49m\n",
      "File \u001b[0;32m/opt/homebrew/lib/python3.11/site-packages/openai/_base_client.py:1200\u001b[0m, in \u001b[0;36mSyncAPIClient.post\u001b[0;34m(self, path, cast_to, body, options, files, stream, stream_cls)\u001b[0m\n\u001b[1;32m   1186\u001b[0m \u001b[38;5;28;01mdef\u001b[39;00m \u001b[38;5;21mpost\u001b[39m(\n\u001b[1;32m   1187\u001b[0m     \u001b[38;5;28mself\u001b[39m,\n\u001b[1;32m   1188\u001b[0m     path: \u001b[38;5;28mstr\u001b[39m,\n\u001b[0;32m   (...)\u001b[0m\n\u001b[1;32m   1195\u001b[0m     stream_cls: \u001b[38;5;28mtype\u001b[39m[_StreamT] \u001b[38;5;241m|\u001b[39m \u001b[38;5;28;01mNone\u001b[39;00m \u001b[38;5;241m=\u001b[39m \u001b[38;5;28;01mNone\u001b[39;00m,\n\u001b[1;32m   1196\u001b[0m ) \u001b[38;5;241m-\u001b[39m\u001b[38;5;241m>\u001b[39m ResponseT \u001b[38;5;241m|\u001b[39m _StreamT:\n\u001b[1;32m   1197\u001b[0m     opts \u001b[38;5;241m=\u001b[39m FinalRequestOptions\u001b[38;5;241m.\u001b[39mconstruct(\n\u001b[1;32m   1198\u001b[0m         method\u001b[38;5;241m=\u001b[39m\u001b[38;5;124m\"\u001b[39m\u001b[38;5;124mpost\u001b[39m\u001b[38;5;124m\"\u001b[39m, url\u001b[38;5;241m=\u001b[39mpath, json_data\u001b[38;5;241m=\u001b[39mbody, files\u001b[38;5;241m=\u001b[39mto_httpx_files(files), \u001b[38;5;241m*\u001b[39m\u001b[38;5;241m*\u001b[39moptions\n\u001b[1;32m   1199\u001b[0m     )\n\u001b[0;32m-> 1200\u001b[0m     \u001b[38;5;28;01mreturn\u001b[39;00m cast(ResponseT, \u001b[38;5;28;43mself\u001b[39;49m\u001b[38;5;241;43m.\u001b[39;49m\u001b[43mrequest\u001b[49m\u001b[43m(\u001b[49m\u001b[43mcast_to\u001b[49m\u001b[43m,\u001b[49m\u001b[43m \u001b[49m\u001b[43mopts\u001b[49m\u001b[43m,\u001b[49m\u001b[43m \u001b[49m\u001b[43mstream\u001b[49m\u001b[38;5;241;43m=\u001b[39;49m\u001b[43mstream\u001b[49m\u001b[43m,\u001b[49m\u001b[43m \u001b[49m\u001b[43mstream_cls\u001b[49m\u001b[38;5;241;43m=\u001b[39;49m\u001b[43mstream_cls\u001b[49m\u001b[43m)\u001b[49m)\n",
      "File \u001b[0;32m/opt/homebrew/lib/python3.11/site-packages/openai/_base_client.py:889\u001b[0m, in \u001b[0;36mSyncAPIClient.request\u001b[0;34m(self, cast_to, options, remaining_retries, stream, stream_cls)\u001b[0m\n\u001b[1;32m    880\u001b[0m \u001b[38;5;28;01mdef\u001b[39;00m \u001b[38;5;21mrequest\u001b[39m(\n\u001b[1;32m    881\u001b[0m     \u001b[38;5;28mself\u001b[39m,\n\u001b[1;32m    882\u001b[0m     cast_to: Type[ResponseT],\n\u001b[0;32m   (...)\u001b[0m\n\u001b[1;32m    887\u001b[0m     stream_cls: \u001b[38;5;28mtype\u001b[39m[_StreamT] \u001b[38;5;241m|\u001b[39m \u001b[38;5;28;01mNone\u001b[39;00m \u001b[38;5;241m=\u001b[39m \u001b[38;5;28;01mNone\u001b[39;00m,\n\u001b[1;32m    888\u001b[0m ) \u001b[38;5;241m-\u001b[39m\u001b[38;5;241m>\u001b[39m ResponseT \u001b[38;5;241m|\u001b[39m _StreamT:\n\u001b[0;32m--> 889\u001b[0m     \u001b[38;5;28;01mreturn\u001b[39;00m \u001b[38;5;28;43mself\u001b[39;49m\u001b[38;5;241;43m.\u001b[39;49m\u001b[43m_request\u001b[49m\u001b[43m(\u001b[49m\n\u001b[1;32m    890\u001b[0m \u001b[43m        \u001b[49m\u001b[43mcast_to\u001b[49m\u001b[38;5;241;43m=\u001b[39;49m\u001b[43mcast_to\u001b[49m\u001b[43m,\u001b[49m\n\u001b[1;32m    891\u001b[0m \u001b[43m        \u001b[49m\u001b[43moptions\u001b[49m\u001b[38;5;241;43m=\u001b[39;49m\u001b[43moptions\u001b[49m\u001b[43m,\u001b[49m\n\u001b[1;32m    892\u001b[0m \u001b[43m        \u001b[49m\u001b[43mstream\u001b[49m\u001b[38;5;241;43m=\u001b[39;49m\u001b[43mstream\u001b[49m\u001b[43m,\u001b[49m\n\u001b[1;32m    893\u001b[0m \u001b[43m        \u001b[49m\u001b[43mstream_cls\u001b[49m\u001b[38;5;241;43m=\u001b[39;49m\u001b[43mstream_cls\u001b[49m\u001b[43m,\u001b[49m\n\u001b[1;32m    894\u001b[0m \u001b[43m        \u001b[49m\u001b[43mremaining_retries\u001b[49m\u001b[38;5;241;43m=\u001b[39;49m\u001b[43mremaining_retries\u001b[49m\u001b[43m,\u001b[49m\n\u001b[1;32m    895\u001b[0m \u001b[43m    \u001b[49m\u001b[43m)\u001b[49m\n",
      "File \u001b[0;32m/opt/homebrew/lib/python3.11/site-packages/openai/_base_client.py:980\u001b[0m, in \u001b[0;36mSyncAPIClient._request\u001b[0;34m(self, cast_to, options, remaining_retries, stream, stream_cls)\u001b[0m\n\u001b[1;32m    977\u001b[0m         err\u001b[38;5;241m.\u001b[39mresponse\u001b[38;5;241m.\u001b[39mread()\n\u001b[1;32m    979\u001b[0m     log\u001b[38;5;241m.\u001b[39mdebug(\u001b[38;5;124m\"\u001b[39m\u001b[38;5;124mRe-raising status error\u001b[39m\u001b[38;5;124m\"\u001b[39m)\n\u001b[0;32m--> 980\u001b[0m     \u001b[38;5;28;01mraise\u001b[39;00m \u001b[38;5;28mself\u001b[39m\u001b[38;5;241m.\u001b[39m_make_status_error_from_response(err\u001b[38;5;241m.\u001b[39mresponse) \u001b[38;5;28;01mfrom\u001b[39;00m \u001b[38;5;28;01mNone\u001b[39;00m\n\u001b[1;32m    982\u001b[0m \u001b[38;5;28;01mreturn\u001b[39;00m \u001b[38;5;28mself\u001b[39m\u001b[38;5;241m.\u001b[39m_process_response(\n\u001b[1;32m    983\u001b[0m     cast_to\u001b[38;5;241m=\u001b[39mcast_to,\n\u001b[1;32m    984\u001b[0m     options\u001b[38;5;241m=\u001b[39moptions,\n\u001b[0;32m   (...)\u001b[0m\n\u001b[1;32m    987\u001b[0m     stream_cls\u001b[38;5;241m=\u001b[39mstream_cls,\n\u001b[1;32m    988\u001b[0m )\n",
      "\u001b[0;31mAuthenticationError\u001b[0m: Error code: 401 - {'statusCode': 401, 'message': 'Unauthorized. Access token is missing, invalid, audience is incorrect (https://cognitiveservices.azure.com), or have expired.'}"
     ]
    }
   ],
   "source": [
    "\n",
    "response = client.audio.transcriptions.create(\n",
    "    model = \"whisper-2-large\",\n",
    "    file = open('/Users/oussa/Desktop/LLM/audio_english.mp3', \"rb\"),\n",
    "    response_format = \"text\" \n",
    ")\n",
    "\n",
    "print(response)\n"
   ]
  },
  {
   "cell_type": "code",
   "execution_count": null,
   "metadata": {},
   "outputs": [],
   "source": [
    "response_modifiee = response.replace(\".\", \".\\n\")"
   ]
  },
  {
   "cell_type": "markdown",
   "metadata": {},
   "source": [
    "### II - Traduction"
   ]
  },
  {
   "cell_type": "code",
   "execution_count": null,
   "metadata": {},
   "outputs": [],
   "source": [
    "os.environ['OPENAI_API_KEY'] = \"7e93421f46cd4680831023addcb0f42d\"\n",
    "os.environ['OPENAI_API_TYPE'] = 'azure'\n",
    "os.environ['OPENAI_API_VERSION'] = '2023-03-15-preview'\n",
    "os.environ['OPENAI_API_BASE'] = 'https://francecentral-openai.openai.azure.com/'"
   ]
  },
  {
   "cell_type": "code",
   "execution_count": null,
   "metadata": {},
   "outputs": [],
   "source": [
    "from langchain.chains.combine_documents.stuff import StuffDocumentsChain\n",
    "from langchain.chains.llm import LLMChain\n",
    "from langchain.prompts import PromptTemplate\n",
    "from langchain.chat_models import AzureChatOpenAI\n",
    "from langchain.chains.summarize import load_summarize_chain\n",
    "from langchain.text_splitter import RecursiveCharacterTextSplitter\n",
    "from langchain_community.document_loaders import PyPDFLoader\n",
    "from langchain_core.messages import HumanMessage\n",
    "import re"
   ]
  },
  {
   "cell_type": "code",
   "execution_count": null,
   "metadata": {},
   "outputs": [],
   "source": [
    "model_name = 'gpt-4-turbo'"
   ]
  },
  {
   "cell_type": "code",
   "execution_count": null,
   "metadata": {},
   "outputs": [
    {
     "name": "stderr",
     "output_type": "stream",
     "text": [
      "/opt/homebrew/lib/python3.11/site-packages/langchain_community/chat_models/azure_openai.py:167: UserWarning: As of openai>=1.0.0, Azure endpoints should be specified via the `azure_endpoint` param not `openai_api_base` (or alias `base_url`). Updating `openai_api_base` from https://francecentral-openai.openai.azure.com/ to https://francecentral-openai.openai.azure.com/openai.\n",
      "  warnings.warn(\n",
      "/opt/homebrew/lib/python3.11/site-packages/langchain_community/chat_models/azure_openai.py:174: UserWarning: As of openai>=1.0.0, if `deployment_name` (or alias `azure_deployment`) is specified then `openai_api_base` (or alias `base_url`) should not be. Instead use `deployment_name` (or alias `azure_deployment`) and `azure_endpoint`.\n",
      "  warnings.warn(\n",
      "/opt/homebrew/lib/python3.11/site-packages/langchain_community/chat_models/azure_openai.py:182: UserWarning: As of openai>=1.0.0, if `openai_api_base` (or alias `base_url`) is specified it is expected to be of the form https://example-resource.azure.openai.com/openai/deployments/example-deployment. Updating https://francecentral-openai.openai.azure.com/ to https://francecentral-openai.openai.azure.com/openai.\n",
      "  warnings.warn(\n"
     ]
    }
   ],
   "source": [
    "llm_model = AzureChatOpenAI(\n",
    "    deployment_name=model_name,\n",
    "    model_name=model_name,\n",
    "    temperature=0\n",
    ")"
   ]
  },
  {
   "cell_type": "code",
   "execution_count": null,
   "metadata": {},
   "outputs": [],
   "source": [
    "message = HumanMessage(\n",
    "    content= f\"\"\"\n",
    "    Assitant est un traducteur expert avec 20 ans d'expérience. Tu es bilingue français / anglais, car tu as la double nationalité.\n",
    "    \n",
    "    # Objectif\n",
    "    Si la texte est en Anglais, traduire le texte de l'anglais au français. Si la texte est en francais ne rien faire et renvoyer le texte tel quel sans rien changer.\n",
    "    \n",
    "    # Règles\n",
    "    - Le mot à mot n'est pas obligé\n",
    "    - Il est nécessaire de garder le sens des phrases\n",
    "    - Le contenu qui sera demandé à traduire provient de vidéos sur laquelle on a extrait le texte, il est alors normal que le texte puisse être approximatif\n",
    "    \n",
    "    # Exemple 1\n",
    "    Texte : You see that the new accounting results, our CSM and cash flow distribution extremely strong.  And we've had massive increases in effective rates on our book that are now coming through.\n",
    "    Réponse : Vous voyez que les résultats de la nouvelle comptabilité, notre CSM et la distribution des flux de trésorerie sont extrêmement solides.  Et nous avons eu des augmentations massives des taux effectifs sur nos comptes qui se concrétisent maintenant.\n",
    "    \n",
    "    # Texte à traduire: \n",
    "    {response}\n",
    "\"\"\"\n",
    ")\n"
   ]
  },
  {
   "cell_type": "code",
   "execution_count": null,
   "metadata": {},
   "outputs": [],
   "source": [
    "response_translated = llm_model([message])\n"
   ]
  },
  {
   "cell_type": "code",
   "execution_count": null,
   "metadata": {},
   "outputs": [
    {
     "name": "stdout",
     "output_type": "stream",
     "text": [
      "La première réponse est que tous nos segments sont en réalité très performants, ce qui est très important pour Allianz. Nous sommes très diversifiés à travers tous les segments et les gens n'ont pas, pour répondre à votre question, prévu que notre franchise très solide, probablement la meilleure au monde, se porte aussi bien, mais aussi la gestion d'actifs au quatrième trimestre a rattrapé son retard. Étant donné la pression toujours présente sur le marché des obligations, c'était un résultat remarquable. Et juste pour parler des flux, cela continue cette année. Les premières semaines, nous avons eu plus de flux vers l'entreprise de gestion de fonds que nous en avons eu toute l'année dernière, donc l'entreprise se porte extrêmement bien. Je vais vous demander quelles sont les perspectives ensuite, car cette année 14,7 milliards de bénéfices d'exploitation, pour l'année prochaine vous prévoyez dans la fourchette de 14,8 milliards d'euros plus ou moins 1 milliard d'euros. Cela semble un peu faible. Que voyez-vous à l'horizon qui vous donne un peu de manque de visibilité et suggère que les bénéfices pourraient même être inférieurs ? La question, ce que nous faisons toujours, nous sommes très prudents. Nous opérons dans un monde qui est au bord de la guerre dans de nombreuses régions du monde. Et c'est une bonne tradition chez Allianz, lorsque vous regardez les dernières années où j'ai été en charge, que nous prenons les résultats de l'année dernière comme le cœur de ce que nous attendons de continuer, plus un. Mais lorsque vous regardez les chiffres des dernières années, nous avons fait 6 % de plus. Donc, nous aimons être prudents pour ne pas avoir à mettre continuellement le marché à jour sur comment nous faisons par rapport à l'objectif. C'est la vraie raison. Nous sommes très confiants pour cette année également. Pourquoi ? Un, j'ai mentionné que les flux de retour dans l'entreprise d'assurance-vie sont extrêmement stables. Vous voyez que les résultats de la nouvelle comptabilité, notre CSM et la distribution des flux de trésorerie sont extrêmement solides. Et nous avons eu des augmentations massives des taux effectifs sur nos comptes qui se concrétisent maintenant. Même sur le marché le plus difficile, des augmentations de prix effectives à deux chiffres. Donc, cette année va paraître au moins aussi bonne que l'année dernière. Oliver, vraiment content de vous voir, au fait. Merci de nous avoir rejoints tous les deux. À quel point ces bénéfices extraordinaires que vous et tous les autres PDG d'AXA, de Zurich ces dernières 48 heures, etc., dépendent-ils ? Combien de temps ces bénéfices vraiment étendus peuvent-ils durer ? On a l'impression que nous sommes au sommet du cycle, un point idéal en termes de taux, de primes, de ROE. Je me demandais juste, voyez-vous un moment, si vous dites que ça va être au moins aussi bien cette année à venir, quand en fait cela va diminuer ? C'est une très bonne question. Merci beaucoup. Nous sommes très différents de nos concurrents parce que les entreprises que vous venez de mentionner sont essentiellement restées dans l'assurance dommages et ont une exposition significative aux lignes commerciales. Nous avons, où nous avons vu une fois par décennie, une rentabilité élevée, d'ailleurs aussi chez Allianz maintenant avec des bénéfices records et une rentabilité record. Mais rappelez-vous, nous avons une entreprise de détail extrêmement forte qui est plus forte que presque tout le monde. Et en plus, nous avons l'une des principales franchises de vie dans le monde où pour notre nouvelle entreprise, par exemple, nous ne consommons plus de capital. Donc, nous ajoutons des flux de trésorerie chaque année. Et la gestion d'actifs est de retour, en particulier sur le côté obligataire, qui a été sous pression à cause de la hausse des taux élevés ces dernières années. Donc, nous avons une structure totalement différente et beaucoup plus de résilience que de nombreuses autres entreprises. Intéressant que je regarde dans P&C et je vois un peu de resserrement sur le ratio combiné, juste un peu. Et évidemment, vos pertes Netcat et réclamations ont également légèrement augmenté. Oliver, est-ce une tendance ou une aberration ? Donc encore une fois, excellente question. Nous avons eu une autre année record de coups de Netcat. Et d'ailleurs, le monde change. Nous n'avons pas seulement de très grands événements, mais ce que vous voyez maintenant, c'est ce que nous appelons des micro-cyclones. Nous en avons eu un certain nombre en Europe l'année dernière. C'est pourquoi nous augmentons la charge Netcat dans nos calculs de primes à trois pour cent, ce qui est essentiellement le double par rapport à il y a 10 ans. Et l'activité Netcat continue d'augmenter. La question clé est, pouvons-nous revoir les prix pour cela ? Et la réponse est absolument oui. Et nous refaisons également nos programmes de réassurance. Rappelez-vous, Allianz est l'une des rares compagnies d'assurance au monde qui peut placer une couverture globale sur le marché de la réassurance. Donc, bien que nous devions retenir plus d'activité Netcat, nous avons aussi une très bonne base de capital. La chose clé est, cependant, de rester sur nos gardes, de gérer l'inflation. Et vous allez voir des prix et des résultats nettement meilleurs dans le commerce de détail cette année. Puis-je prévoir tous les Netcat ? Non, je ne peux pas.\n"
     ]
    }
   ],
   "source": [
    "print(response_translated.content)"
   ]
  },
  {
   "cell_type": "code",
   "execution_count": null,
   "metadata": {},
   "outputs": [],
   "source": [
    "response_translated_str = response_translated.content"
   ]
  },
  {
   "cell_type": "code",
   "execution_count": null,
   "metadata": {},
   "outputs": [
    {
     "data": {
      "text/plain": [
       "\"La première réponse est que tous nos segments sont en réalité très performants, ce qui est très important pour Allianz. Nous sommes très diversifiés à travers tous les segments et les gens n'ont pas, pour répondre à votre question, prévu que notre franchise très solide, probablement la meilleure au monde, se porte aussi bien, mais aussi la gestion d'actifs au quatrième trimestre a rattrapé son retard. Étant donné la pression toujours présente sur le marché des obligations, c'était un résultat remarquable. Et juste pour parler des flux, cela continue cette année. Les premières semaines, nous avons eu plus de flux vers l'entreprise de gestion de fonds que nous en avons eu toute l'année dernière, donc l'entreprise se porte extrêmement bien. Je vais vous demander quelles sont les perspectives ensuite, car cette année 14,7 milliards de bénéfices d'exploitation, pour l'année prochaine vous prévoyez dans la fourchette de 14,8 milliards d'euros plus ou moins 1 milliard d'euros. Cela semble un peu faible. Que voyez-vous à l'horizon qui vous donne un peu de manque de visibilité et suggère que les bénéfices pourraient même être inférieurs ? La question, ce que nous faisons toujours, nous sommes très prudents. Nous opérons dans un monde qui est au bord de la guerre dans de nombreuses régions du monde. Et c'est une bonne tradition chez Allianz, lorsque vous regardez les dernières années où j'ai été en charge, que nous prenons les résultats de l'année dernière comme le cœur de ce que nous attendons de continuer, plus un. Mais lorsque vous regardez les chiffres des dernières années, nous avons fait 6 % de plus. Donc, nous aimons être prudents pour ne pas avoir à mettre continuellement le marché à jour sur comment nous faisons par rapport à l'objectif. C'est la vraie raison. Nous sommes très confiants pour cette année également. Pourquoi ? Un, j'ai mentionné que les flux de retour dans l'entreprise d'assurance-vie sont extrêmement stables. Vous voyez que les résultats de la nouvelle comptabilité, notre CSM et la distribution des flux de trésorerie sont extrêmement solides. Et nous avons eu des augmentations massives des taux effectifs sur nos comptes qui se concrétisent maintenant. Même sur le marché le plus difficile, des augmentations de prix effectives à deux chiffres. Donc, cette année va paraître au moins aussi bonne que l'année dernière. Oliver, vraiment content de vous voir, au fait. Merci de nous avoir rejoints tous les deux. À quel point ces bénéfices extraordinaires que vous et tous les autres PDG d'AXA, de Zurich ces dernières 48 heures, etc., dépendent-ils ? Combien de temps ces bénéfices vraiment étendus peuvent-ils durer ? On a l'impression que nous sommes au sommet du cycle, un point idéal en termes de taux, de primes, de ROE. Je me demandais juste, voyez-vous un moment, si vous dites que ça va être au moins aussi bien cette année à venir, quand en fait cela va diminuer ? C'est une très bonne question. Merci beaucoup. Nous sommes très différents de nos concurrents parce que les entreprises que vous venez de mentionner sont essentiellement restées dans l'assurance dommages et ont une exposition significative aux lignes commerciales. Nous avons, où nous avons vu une fois par décennie, une rentabilité élevée, d'ailleurs aussi chez Allianz maintenant avec des bénéfices records et une rentabilité record. Mais rappelez-vous, nous avons une entreprise de détail extrêmement forte qui est plus forte que presque tout le monde. Et en plus, nous avons l'une des principales franchises de vie dans le monde où pour notre nouvelle entreprise, par exemple, nous ne consommons plus de capital. Donc, nous ajoutons des flux de trésorerie chaque année. Et la gestion d'actifs est de retour, en particulier sur le côté obligataire, qui a été sous pression à cause de la hausse des taux élevés ces dernières années. Donc, nous avons une structure totalement différente et beaucoup plus de résilience que de nombreuses autres entreprises. Intéressant que je regarde dans P&C et je vois un peu de resserrement sur le ratio combiné, juste un peu. Et évidemment, vos pertes Netcat et réclamations ont également légèrement augmenté. Oliver, est-ce une tendance ou une aberration ? Donc encore une fois, excellente question. Nous avons eu une autre année record de coups de Netcat. Et d'ailleurs, le monde change. Nous n'avons pas seulement de très grands événements, mais ce que vous voyez maintenant, c'est ce que nous appelons des micro-cyclones. Nous en avons eu un certain nombre en Europe l'année dernière. C'est pourquoi nous augmentons la charge Netcat dans nos calculs de primes à trois pour cent, ce qui est essentiellement le double par rapport à il y a 10 ans. Et l'activité Netcat continue d'augmenter. La question clé est, pouvons-nous revoir les prix pour cela ? Et la réponse est absolument oui. Et nous refaisons également nos programmes de réassurance. Rappelez-vous, Allianz est l'une des rares compagnies d'assurance au monde qui peut placer une couverture globale sur le marché de la réassurance. Donc, bien que nous devions retenir plus d'activité Netcat, nous avons aussi une très bonne base de capital. La chose clé est, cependant, de rester sur nos gardes, de gérer l'inflation. Et vous allez voir des prix et des résultats nettement meilleurs dans le commerce de détail cette année. Puis-je prévoir tous les Netcat ? Non, je ne peux pas.\""
      ]
     },
     "execution_count": 229,
     "metadata": {},
     "output_type": "execute_result"
    }
   ],
   "source": [
    "response_translated_str"
   ]
  },
  {
   "cell_type": "markdown",
   "metadata": {},
   "source": [
    "### III - Résumer"
   ]
  },
  {
   "cell_type": "code",
   "execution_count": null,
   "metadata": {},
   "outputs": [],
   "source": [
    "from langchain.chains import SequentialChain\n",
    "from langchain.chains import LLMChain\n",
    "from langchain.chains import SimpleSequentialChain\n",
    "from langchain.prompts import ChatPromptTemplate"
   ]
  },
  {
   "cell_type": "code",
   "execution_count": null,
   "metadata": {},
   "outputs": [],
   "source": [
    "# Chain 1: extraction des thématiques \n",
    "\n",
    "# prompt template 1: \n",
    "first_prompt = ChatPromptTemplate.from_template(\n",
    "    ''' \\n Tu es un assistant expert dans le domaine financier et en assurance. Tu sais bien extraire les informations à partir d'un\n",
    "passage de texte.\n",
    "Ces informations sont généralement des chiffres, des montants, des dates, et pourraient être autour de:\n",
    "    -Présentation de l'organisme.\n",
    "    -Activité de l'organisme (Chiffre d'affaire, Variations, pourcentages, montants, nombres,\n",
    "    Résultat technique, Résultat financier, Résultat net après impôts)\n",
    "    -Placements autres que les actifs en represenation de contrats en UC ou indexe.\n",
    "    -Changement de la gouvernance.\n",
    "    -Perspectives vision de l'organisme et projets futurs.\n",
    "\n",
    "#Règles:\n",
    "Tu ne dois pas modifier les valeurs des données financières (EXP: Chiffres d'affaires, pourcentages, taux, montants, ratio de solvabilité, ratio de couverture du SCR etc)\n",
    "N'invente pas des informations qui ni fugrent pas dans le texte.\n",
    "Et le resume de fin devrait sous forme de six paragraphes comme suit:\n",
    "    1) Présentation de l'organisme.\n",
    "    2) Activité de l'organisme (Chiffre d'affaire, Variations, pourcentages, montants, nombres,\n",
    "    Résultat technique, Résultat financier, Résultat net après impôts)\n",
    "    3) Provisionnement\n",
    "    4) Placements autres que les actifs en represenation de contrats en UC ou indexe.\n",
    "    5) Changement de la gouvernance.\n",
    "    6) Perspectives vision de l'organisme et projets futurs.\n",
    "    Le texte est le suivant:{response_translated_str}\n",
    "'''\n",
    ")\n",
    "# Output= themes\n",
    "chain_one = LLMChain(llm=llm_model, \n",
    "                     prompt=first_prompt, \n",
    "                     output_key=\"themes\"\n",
    "                    )\n"
   ]
  },
  {
   "cell_type": "code",
   "execution_count": null,
   "metadata": {},
   "outputs": [],
   "source": [
    "# Concat\n",
    "overall_simple_chain = SimpleSequentialChain(chains=[chain_one], verbose=True)"
   ]
  },
  {
   "cell_type": "code",
   "execution_count": null,
   "metadata": {},
   "outputs": [
    {
     "name": "stdout",
     "output_type": "stream",
     "text": [
      "\n",
      "\n",
      "\u001b[1m> Entering new SimpleSequentialChain chain...\u001b[0m\n",
      "\u001b[36;1m\u001b[1;3m1) Présentation de l'organisme:\n",
      "Allianz est un organisme financier très diversifié et performant, reconnu pour sa franchise solide, probablement la meilleure au monde. Il opère dans différents segments, y compris la gestion d'actifs et l'assurance-vie, et se distingue par sa structure résiliente par rapport à ses concurrents.\n",
      "\n",
      "2) Activité de l'organisme:\n",
      "Allianz a réalisé un bénéfice d'exploitation de 14,7 milliards d'euros pour l'année en cours et prévoit un bénéfice d'exploitation pour l'année prochaine dans la fourchette de 14,8 milliards d'euros, plus ou moins 1 milliard d'euros. La société a connu une augmentation de 6 % par rapport aux années précédentes et continue de voir des flux positifs dans son entreprise de gestion de fonds. Les résultats techniques et financiers sont solides, avec des augmentations de prix effectives à deux chiffres même dans les marchés difficiles.\n",
      "\n",
      "3) Provisionnement:\n",
      "Le texte ne fournit pas d'informations spécifiques sur le provisionnement. Cependant, il est mentionné que la société a augmenté la charge Netcat dans ses calculs de primes à trois pour cent, ce qui pourrait indiquer une augmentation des provisions pour les événements catastrophiques.\n",
      "\n",
      "4) Placements autres que les actifs en représentation de contrats en UC ou indexés:\n",
      "Le texte ne fournit pas de détails sur les placements autres que les actifs en représentation de contrats en UC ou indexés.\n",
      "\n",
      "5) Changement de la gouvernance:\n",
      "Il n'y a pas d'information directe sur un changement de gouvernance chez Allianz dans le texte fourni.\n",
      "\n",
      "6) Perspectives vision de l'organisme et projets futurs:\n",
      "Allianz se montre prudent dans ses prévisions, en raison de l'incertitude mondiale et des tensions géopolitiques. Cependant, la société est confiante pour l'année à venir, s'attendant à ce que les résultats soient au moins aussi bons que l'année précédente. Allianz prévoit de gérer l'inflation et d'améliorer les prix et les résultats dans le commerce de détail, tout en ajustant ses programmes de réassurance pour mieux gérer l'activité Netcat croissante.\u001b[0m\n",
      "\n",
      "\u001b[1m> Finished chain.\u001b[0m\n"
     ]
    },
    {
     "data": {
      "text/plain": [
       "\"1) Présentation de l'organisme:\\nAllianz est un organisme financier très diversifié et performant, reconnu pour sa franchise solide, probablement la meilleure au monde. Il opère dans différents segments, y compris la gestion d'actifs et l'assurance-vie, et se distingue par sa structure résiliente par rapport à ses concurrents.\\n\\n2) Activité de l'organisme:\\nAllianz a réalisé un bénéfice d'exploitation de 14,7 milliards d'euros pour l'année en cours et prévoit un bénéfice d'exploitation pour l'année prochaine dans la fourchette de 14,8 milliards d'euros, plus ou moins 1 milliard d'euros. La société a connu une augmentation de 6 % par rapport aux années précédentes et continue de voir des flux positifs dans son entreprise de gestion de fonds. Les résultats techniques et financiers sont solides, avec des augmentations de prix effectives à deux chiffres même dans les marchés difficiles.\\n\\n3) Provisionnement:\\nLe texte ne fournit pas d'informations spécifiques sur le provisionnement. Cependant, il est mentionné que la société a augmenté la charge Netcat dans ses calculs de primes à trois pour cent, ce qui pourrait indiquer une augmentation des provisions pour les événements catastrophiques.\\n\\n4) Placements autres que les actifs en représentation de contrats en UC ou indexés:\\nLe texte ne fournit pas de détails sur les placements autres que les actifs en représentation de contrats en UC ou indexés.\\n\\n5) Changement de la gouvernance:\\nIl n'y a pas d'information directe sur un changement de gouvernance chez Allianz dans le texte fourni.\\n\\n6) Perspectives vision de l'organisme et projets futurs:\\nAllianz se montre prudent dans ses prévisions, en raison de l'incertitude mondiale et des tensions géopolitiques. Cependant, la société est confiante pour l'année à venir, s'attendant à ce que les résultats soient au moins aussi bons que l'année précédente. Allianz prévoit de gérer l'inflation et d'améliorer les prix et les résultats dans le commerce de détail, tout en ajustant ses programmes de réassurance pour mieux gérer l'activité Netcat croissante.\""
      ]
     },
     "execution_count": 233,
     "metadata": {},
     "output_type": "execute_result"
    }
   ],
   "source": [
    "overall_simple_chain.run(response_translated_str)"
   ]
  }
 ],
 "metadata": {
  "kernelspec": {
   "display_name": "Python 3",
   "language": "python",
   "name": "python3"
  },
  "language_info": {
   "codemirror_mode": {
    "name": "ipython",
    "version": 3
   },
   "file_extension": ".py",
   "mimetype": "text/x-python",
   "name": "python",
   "nbconvert_exporter": "python",
   "pygments_lexer": "ipython3",
   "version": "3.11.8"
  }
 },
 "nbformat": 4,
 "nbformat_minor": 2
}
